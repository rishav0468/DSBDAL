{
 "cells": [
  {
   "cell_type": "code",
   "execution_count": 1,
   "id": "8be54619-0a00-4b8c-9b00-ae6eeb057721",
   "metadata": {},
   "outputs": [],
   "source": [
    "import nltk"
   ]
  },
  {
   "cell_type": "code",
   "execution_count": 13,
   "id": "a9fd0a3d-b6fd-472d-b1dc-bc6f71615877",
   "metadata": {},
   "outputs": [],
   "source": [
    "with open('document1.txt','r',encoding='utf-8')as file:\n",
    "    document1=file.read()\n",
    "with open('document2.txt','r',encoding='utf-8')as file:\n",
    "    document2=file.read()"
   ]
  },
  {
   "cell_type": "code",
   "execution_count": 14,
   "id": "18105742-e504-4f87-bd7f-a4cd63e0f43b",
   "metadata": {},
   "outputs": [],
   "source": [
    "docs=[document1,document2]"
   ]
  },
  {
   "cell_type": "code",
   "execution_count": 26,
   "id": "e77cffde-5a1b-48be-a0aa-0f363fd5dc9d",
   "metadata": {},
   "outputs": [
    {
     "name": "stdout",
     "output_type": "stream",
     "text": [
      "['my', 'name', 'is', 'aryan', 'historical', 'acts']\n"
     ]
    }
   ],
   "source": [
    "from nltk import word_tokenize\n",
    "wordtokens=word_tokenize(document1)\n",
    "\n",
    "print(wordtokens)"
   ]
  },
  {
   "cell_type": "code",
   "execution_count": 16,
   "id": "6af0609c-0d62-4cc6-97f9-de13628e0251",
   "metadata": {},
   "outputs": [
    {
     "name": "stdout",
     "output_type": "stream",
     "text": [
      "POS TAGS:  [('my', 'PRP$'), ('name', 'NN'), ('is', 'VBZ'), ('aryan', 'JJ'), ('historical', 'JJ'), ('acts', 'NNS')]\n"
     ]
    }
   ],
   "source": [
    "from nltk import pos_tag\n",
    "print(\"POS TAGS: \",pos_tag(wordtokens))"
   ]
  },
  {
   "cell_type": "code",
   "execution_count": 17,
   "id": "5f272c19-d567-48eb-a461-7222ce1a78ac",
   "metadata": {},
   "outputs": [
    {
     "name": "stdout",
     "output_type": "stream",
     "text": [
      "['name', 'aryan', 'historical', 'acts']\n"
     ]
    }
   ],
   "source": [
    "from nltk.corpus import stopwords\n",
    "stopword=set(stopwords.words('english'))\n",
    "cleantokens=[]\n",
    "for i in wordtokens:\n",
    "    if i not in stopword:\n",
    "        cleantokens.append(i)\n",
    "print(cleantokens)"
   ]
  },
  {
   "cell_type": "code",
   "execution_count": 18,
   "id": "3c5b6038-6672-4e5f-a35e-24f01afa2a55",
   "metadata": {},
   "outputs": [
    {
     "name": "stdout",
     "output_type": "stream",
     "text": [
      "['name', 'aryan', 'histor', 'act']\n"
     ]
    }
   ],
   "source": [
    "from nltk.stem import PorterStemmer\n",
    "stemmer=PorterStemmer()\n",
    "stemtokens=[]\n",
    "for i in cleantokens:\n",
    "    stemmed=stemmer.stem(i)\n",
    "    stemtokens.append(stemmed)\n",
    "print(stemtokens)"
   ]
  },
  {
   "cell_type": "code",
   "execution_count": 19,
   "id": "cc7c75c2-a349-4cbf-89ae-08eff147e26f",
   "metadata": {},
   "outputs": [
    {
     "name": "stdout",
     "output_type": "stream",
     "text": [
      "['name', 'aryan', 'historical', 'act']\n"
     ]
    }
   ],
   "source": [
    "from nltk.stem import WordNetLemmatizer\n",
    "lemmatizer=WordNetLemmatizer()\n",
    "lemmtokens=[]\n",
    "for i in cleantokens:\n",
    "    lemmed=lemmatizer.lemmatize(i)\n",
    "    lemmtokens.append(lemmed)\n",
    "print(lemmtokens)"
   ]
  },
  {
   "cell_type": "code",
   "execution_count": 29,
   "id": "6d07481f-b58b-4385-98c4-15f08bec441f",
   "metadata": {},
   "outputs": [
    {
     "name": "stdout",
     "output_type": "stream",
     "text": [
      "TF: \n",
      "        acts     aryan  cricketer  favorite  historical        is        my  \\\n",
      "0  0.408248  0.408248   0.000000  0.000000    0.408248  0.408248  0.408248   \n",
      "1  0.000000  0.000000   0.447214  0.447214    0.000000  0.447214  0.447214   \n",
      "\n",
      "       name     virat  \n",
      "0  0.408248  0.000000  \n",
      "1  0.000000  0.447214  \n"
     ]
    }
   ],
   "source": [
    "# import pandas as pd\n",
    "# from sklearn.feature_extraction.text import TfidfVectorizer\n",
    "# tfvectorizer=TfidfVectorizer(use_idf=False)\n",
    "# tfmatrix=tfvectorizer.fit_transform(docs)\n",
    "# tfterms=tfvectorizer.get_feature_names_out()\n",
    "# tf=pd.DataFrame(tfmatrix.toarray(),columns=tfterms)\n",
    "# print(\"TF: \\n\",tf)\n",
    "import pandas as pd\n",
    "from sklearn.feature_extraction.text import TfidfVectorizer\n",
    "\n",
    "tfvectorizer = TfidfVectorizer(use_idf=False)\n",
    "tf = pd.DataFrame(tfvectorizer.fit_transform(docs).toarray(), columns=tfvectorizer.get_feature_names_out())\n",
    "\n",
    "print(\"TF: \\n\", tf)\n"
   ]
  },
  {
   "cell_type": "code",
   "execution_count": 21,
   "id": "2b7597ae-d4e4-4b01-8704-f129bc8cddc9",
   "metadata": {},
   "outputs": [
    {
     "name": "stdout",
     "output_type": "stream",
     "text": [
      "IDF: \n",
      "        acts     aryan  cricketer  favorite  historical        is        my  \\\n",
      "0  0.461381  0.461381    0.00000   0.00000    0.461381  0.272499  0.272499   \n",
      "1  0.000000  0.000000    0.52004   0.52004    0.000000  0.307144  0.307144   \n",
      "\n",
      "       name    virat  \n",
      "0  0.461381  0.00000  \n",
      "1  0.000000  0.52004  \n"
     ]
    }
   ],
   "source": [
    "# import pandas as pd\n",
    "# from sklearn.feature_extraction.text import TfidfVectorizer\n",
    "# idfvectorizer=TfidfVectorizer(use_idf=True,smooth_idf=False)\n",
    "# idfmatrix=idfvectorizer.fit_transform(docs)\n",
    "# idfterms=idfvectorizer.get_feature_names_out()\n",
    "# idf=pd.DataFrame(idfmatrix.toarray(),columns=idfterms)\n",
    "# print(\"IDF: \\n\",idf)\n",
    "import pandas as pd\n",
    "from sklearn.feature_extraction.text import TfidfVectorizer\n",
    "\n",
    "idfvectorizer = TfidfVectorizer(use_idf=True, smooth_idf=False)\n",
    "idf = pd.DataFrame(idfvectorizer.fit_transform(docs).toarray(), columns=idfvectorizer.get_feature_names_out())\n",
    "\n",
    "print(\"IDF: \\n\", idf)\n"
   ]
  },
  {
   "cell_type": "code",
   "execution_count": null,
   "id": "a1f5b8da-fdbd-4101-bd90-39d1d18c964b",
   "metadata": {},
   "outputs": [],
   "source": []
  }
 ],
 "metadata": {
  "kernelspec": {
   "display_name": "Python 3 (ipykernel)",
   "language": "python",
   "name": "python3"
  },
  "language_info": {
   "codemirror_mode": {
    "name": "ipython",
    "version": 3
   },
   "file_extension": ".py",
   "mimetype": "text/x-python",
   "name": "python",
   "nbconvert_exporter": "python",
   "pygments_lexer": "ipython3",
   "version": "3.12.3"
  }
 },
 "nbformat": 4,
 "nbformat_minor": 5
}
